{
 "cells": [
  {
   "cell_type": "code",
   "outputs": [],
   "source": [
    "import pandas as pd\n",
    "import numpy as np\n",
    "import glob\n",
    "from Solver import solve"
   ],
   "metadata": {
    "collapsed": false,
    "ExecuteTime": {
     "end_time": "2024-01-30T13:55:08.410705685Z",
     "start_time": "2024-01-30T13:55:08.397948695Z"
    }
   },
   "execution_count": 67
  },
  {
   "cell_type": "code",
   "outputs": [
    {
     "name": "stdout",
     "output_type": "stream",
     "text": [
      "The autoreload extension is already loaded. To reload it, use:\n",
      "  %reload_ext autoreload\n"
     ]
    }
   ],
   "source": [
    "%load_ext autoreload\n",
    "%autoreload 2"
   ],
   "metadata": {
    "collapsed": false,
    "ExecuteTime": {
     "end_time": "2024-01-30T13:55:08.452733232Z",
     "start_time": "2024-01-30T13:55:08.452280077Z"
    }
   },
   "execution_count": 68
  },
  {
   "cell_type": "code",
   "outputs": [],
   "source": [
    "num_bids = 14\n",
    "num_goods = 11\n",
    "seed = 2024\n",
    "np.random.seed(seed)"
   ],
   "metadata": {
    "collapsed": false,
    "ExecuteTime": {
     "end_time": "2024-01-30T13:55:08.452993483Z",
     "start_time": "2024-01-30T13:55:08.452441253Z"
    }
   },
   "execution_count": 69
  },
  {
   "cell_type": "code",
   "outputs": [],
   "source": [
    "def unify_list(lis):\n",
    "    # print(lis)\n",
    "    ret_lis = []\n",
    "    for i in range(num_goods):\n",
    "        if i in lis:\n",
    "            ret_lis.append(1)\n",
    "        else:\n",
    "            ret_lis.append(0)\n",
    "    return ret_lis"
   ],
   "metadata": {
    "collapsed": false,
    "ExecuteTime": {
     "end_time": "2024-01-30T13:55:08.453261988Z",
     "start_time": "2024-01-30T13:55:08.452504971Z"
    }
   },
   "execution_count": 70
  },
  {
   "cell_type": "code",
   "outputs": [],
   "source": [
    "folder_path = 'ressources'\n",
    "file_pattern = '*.txt'\n",
    "file_paths = glob.glob(f'{folder_path}/{file_pattern}')\n",
    "\n",
    "columns = []\n",
    "for i in range(num_bids):\n",
    "    columns.append('Price_' + str(i))\n",
    "    for j in range(num_goods):\n",
    "        columns.append('Bid_' + str(i) + '_' + str(j))\n",
    "        \n",
    "for i in range(num_bids):\n",
    "    columns.append('Solution_' + str(i))\n",
    "\n",
    "df = pd.DataFrame(columns=columns)\n",
    "\n",
    "for file_path in file_paths:\n",
    "    with open(file_path, 'r') as file:\n",
    "        lines = file.readlines()\n",
    "\n",
    "    bids = np.zeros([num_bids, num_goods + 1])\n",
    "\n",
    "    file_number = int(file_path[11:15])\n",
    "    bid_number = 0\n",
    "    for line in lines:\n",
    "        if line.startswith('%') or line.startswith('\\n') or line.startswith('goods') or line.startswith(\n",
    "                'bids') or line.startswith('dummy'):\n",
    "            continue\n",
    "        else:\n",
    "            _, price, *goods, _ = line.split(\"\\t\")\n",
    "            \n",
    "            bids[bid_number, 0] = price\n",
    "            \n",
    "            goods = list(map(int, goods))\n",
    "            for good in goods:\n",
    "                if good >= num_goods:\n",
    "                    print(\"Error: good is \" + str(good))\n",
    "                    break\n",
    "                bids[bid_number, good + 1] = 1\n",
    "            \n",
    "            bid_number += 1\n",
    "\n",
    "    price_sum = np.sum(bids[:, 0])\n",
    "    bids[:, 0] = bids[:, 0] / price_sum\n",
    "    solutions = solve(bids, num_bids=num_bids, num_goods=num_goods)\n",
    "    \n",
    "    row = np.concatenate((bids.flatten(), solutions))\n",
    "    df.loc[file_number] = row"
   ],
   "metadata": {
    "collapsed": false,
    "ExecuteTime": {
     "end_time": "2024-01-30T13:55:15.791679693Z",
     "start_time": "2024-01-30T13:55:08.456365076Z"
    }
   },
   "execution_count": 71
  },
  {
   "cell_type": "code",
   "outputs": [
    {
     "data": {
      "text/plain": "      Price_0  Bid_0_0  Bid_0_1  Bid_0_2  Bid_0_3  Bid_0_4  Bid_0_5  Bid_0_6  \\\n365  0.097675      1.0      0.0      1.0      1.0      1.0      0.0      0.0   \n376  0.117325      1.0      1.0      1.0      1.0      0.0      0.0      0.0   \n270  0.086037      0.0      1.0      0.0      1.0      0.0      0.0      0.0   \n653  0.100991      0.0      1.0      0.0      1.0      1.0      0.0      0.0   \n156  0.116555      0.0      0.0      1.0      1.0      1.0      1.0      0.0   \n\n     Bid_0_7  Bid_0_8  ...  Solution_4  Solution_5  Solution_6  Solution_7  \\\n365      0.0      0.0  ...         0.0         0.0         0.0         0.0   \n376      0.0      0.0  ...         0.0         0.0         0.0         0.0   \n270      0.0      0.0  ...         0.0         0.0         0.0         0.0   \n653      0.0      0.0  ...         0.0         0.0         0.0         0.0   \n156      0.0      0.0  ...         1.0         0.0         0.0         1.0   \n\n     Solution_8  Solution_9  Solution_10  Solution_11  Solution_12  \\\n365         0.0         0.0          0.0          0.0          0.0   \n376         0.0         0.0          0.0          0.0          0.0   \n270         0.0         0.0          0.0          0.0          0.0   \n653         0.0         0.0          0.0          0.0          0.0   \n156         0.0         1.0          0.0          0.0          0.0   \n\n     Solution_13  \n365          0.0  \n376          0.0  \n270          0.0  \n653          0.0  \n156          0.0  \n\n[5 rows x 182 columns]",
      "text/html": "<div>\n<style scoped>\n    .dataframe tbody tr th:only-of-type {\n        vertical-align: middle;\n    }\n\n    .dataframe tbody tr th {\n        vertical-align: top;\n    }\n\n    .dataframe thead th {\n        text-align: right;\n    }\n</style>\n<table border=\"1\" class=\"dataframe\">\n  <thead>\n    <tr style=\"text-align: right;\">\n      <th></th>\n      <th>Price_0</th>\n      <th>Bid_0_0</th>\n      <th>Bid_0_1</th>\n      <th>Bid_0_2</th>\n      <th>Bid_0_3</th>\n      <th>Bid_0_4</th>\n      <th>Bid_0_5</th>\n      <th>Bid_0_6</th>\n      <th>Bid_0_7</th>\n      <th>Bid_0_8</th>\n      <th>...</th>\n      <th>Solution_4</th>\n      <th>Solution_5</th>\n      <th>Solution_6</th>\n      <th>Solution_7</th>\n      <th>Solution_8</th>\n      <th>Solution_9</th>\n      <th>Solution_10</th>\n      <th>Solution_11</th>\n      <th>Solution_12</th>\n      <th>Solution_13</th>\n    </tr>\n  </thead>\n  <tbody>\n    <tr>\n      <th>365</th>\n      <td>0.097675</td>\n      <td>1.0</td>\n      <td>0.0</td>\n      <td>1.0</td>\n      <td>1.0</td>\n      <td>1.0</td>\n      <td>0.0</td>\n      <td>0.0</td>\n      <td>0.0</td>\n      <td>0.0</td>\n      <td>...</td>\n      <td>0.0</td>\n      <td>0.0</td>\n      <td>0.0</td>\n      <td>0.0</td>\n      <td>0.0</td>\n      <td>0.0</td>\n      <td>0.0</td>\n      <td>0.0</td>\n      <td>0.0</td>\n      <td>0.0</td>\n    </tr>\n    <tr>\n      <th>376</th>\n      <td>0.117325</td>\n      <td>1.0</td>\n      <td>1.0</td>\n      <td>1.0</td>\n      <td>1.0</td>\n      <td>0.0</td>\n      <td>0.0</td>\n      <td>0.0</td>\n      <td>0.0</td>\n      <td>0.0</td>\n      <td>...</td>\n      <td>0.0</td>\n      <td>0.0</td>\n      <td>0.0</td>\n      <td>0.0</td>\n      <td>0.0</td>\n      <td>0.0</td>\n      <td>0.0</td>\n      <td>0.0</td>\n      <td>0.0</td>\n      <td>0.0</td>\n    </tr>\n    <tr>\n      <th>270</th>\n      <td>0.086037</td>\n      <td>0.0</td>\n      <td>1.0</td>\n      <td>0.0</td>\n      <td>1.0</td>\n      <td>0.0</td>\n      <td>0.0</td>\n      <td>0.0</td>\n      <td>0.0</td>\n      <td>0.0</td>\n      <td>...</td>\n      <td>0.0</td>\n      <td>0.0</td>\n      <td>0.0</td>\n      <td>0.0</td>\n      <td>0.0</td>\n      <td>0.0</td>\n      <td>0.0</td>\n      <td>0.0</td>\n      <td>0.0</td>\n      <td>0.0</td>\n    </tr>\n    <tr>\n      <th>653</th>\n      <td>0.100991</td>\n      <td>0.0</td>\n      <td>1.0</td>\n      <td>0.0</td>\n      <td>1.0</td>\n      <td>1.0</td>\n      <td>0.0</td>\n      <td>0.0</td>\n      <td>0.0</td>\n      <td>0.0</td>\n      <td>...</td>\n      <td>0.0</td>\n      <td>0.0</td>\n      <td>0.0</td>\n      <td>0.0</td>\n      <td>0.0</td>\n      <td>0.0</td>\n      <td>0.0</td>\n      <td>0.0</td>\n      <td>0.0</td>\n      <td>0.0</td>\n    </tr>\n    <tr>\n      <th>156</th>\n      <td>0.116555</td>\n      <td>0.0</td>\n      <td>0.0</td>\n      <td>1.0</td>\n      <td>1.0</td>\n      <td>1.0</td>\n      <td>1.0</td>\n      <td>0.0</td>\n      <td>0.0</td>\n      <td>0.0</td>\n      <td>...</td>\n      <td>1.0</td>\n      <td>0.0</td>\n      <td>0.0</td>\n      <td>1.0</td>\n      <td>0.0</td>\n      <td>1.0</td>\n      <td>0.0</td>\n      <td>0.0</td>\n      <td>0.0</td>\n      <td>0.0</td>\n    </tr>\n  </tbody>\n</table>\n<p>5 rows × 182 columns</p>\n</div>"
     },
     "execution_count": 72,
     "metadata": {},
     "output_type": "execute_result"
    }
   ],
   "source": [
    "df.head()"
   ],
   "metadata": {
    "collapsed": false,
    "ExecuteTime": {
     "end_time": "2024-01-30T13:55:15.814541177Z",
     "start_time": "2024-01-30T13:55:15.792728361Z"
    }
   },
   "execution_count": 72
  },
  {
   "cell_type": "code",
   "outputs": [
    {
     "data": {
      "text/plain": "(1000, 182)"
     },
     "execution_count": 73,
     "metadata": {},
     "output_type": "execute_result"
    }
   ],
   "source": [
    "df.shape"
   ],
   "metadata": {
    "collapsed": false,
    "ExecuteTime": {
     "end_time": "2024-01-30T13:55:15.831633704Z",
     "start_time": "2024-01-30T13:55:15.811355014Z"
    }
   },
   "execution_count": 73
  },
  {
   "cell_type": "code",
   "outputs": [
    {
     "name": "stdout",
     "output_type": "stream",
     "text": [
      "File 'computed_values.csv' written successfully in directory: /home/kassian/Alles/Uni/Master/Semester-2/IDP/machine-learning-for-auctions/data\n"
     ]
    }
   ],
   "source": [
    "import os\n",
    "\n",
    "try:\n",
    "    # Write the DataFrame to a CSV file in the 'data' directory\n",
    "    df.to_csv('data/computed_values.csv', index=False)\n",
    "    print(\"File 'computed_values.csv' written successfully in directory:\", os.getcwd() + \"/data\")\n",
    "except Exception as e:\n",
    "    print(\"An error occurred while writing the file:\", e)\n",
    "    \n",
    "# df.sample(10)\n"
   ],
   "metadata": {
    "collapsed": false,
    "ExecuteTime": {
     "end_time": "2024-01-30T13:55:15.905765832Z",
     "start_time": "2024-01-30T13:55:15.824590097Z"
    }
   },
   "execution_count": 74
  }
 ],
 "metadata": {
  "kernelspec": {
   "display_name": "Python 3",
   "language": "python",
   "name": "python3"
  },
  "language_info": {
   "codemirror_mode": {
    "name": "ipython",
    "version": 3
   },
   "file_extension": ".py",
   "mimetype": "text/x-python",
   "name": "python",
   "nbconvert_exporter": "python",
   "pygments_lexer": "ipython3",
   "version": "3.10.11"
  },
  "orig_nbformat": 4
 },
 "nbformat": 4,
 "nbformat_minor": 2
}

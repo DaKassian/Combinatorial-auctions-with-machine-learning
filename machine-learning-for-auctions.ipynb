{
 "cells": [
  {
   "cell_type": "code",
   "outputs": [],
   "source": [
    "import pandas as pd\n",
    "import numpy as np\n",
    "import torch\n",
    "from torch.utils.data import DataLoader\n",
    "from torch.utils.tensorboard import SummaryWriter\n",
    "from DataSet import DataSet\n",
    "from models.VanillaFFNN import FFNN\n",
    "from datetime import datetime"
   ],
   "metadata": {
    "collapsed": false,
    "ExecuteTime": {
     "end_time": "2024-01-30T15:02:22.312643320Z",
     "start_time": "2024-01-30T15:02:22.294959963Z"
    }
   },
   "execution_count": 162
  },
  {
   "cell_type": "code",
   "outputs": [
    {
     "name": "stdout",
     "output_type": "stream",
     "text": [
      "The autoreload extension is already loaded. To reload it, use:\n",
      "  %reload_ext autoreload\n"
     ]
    }
   ],
   "source": [
    "%load_ext autoreload\n",
    "%autoreload 2"
   ],
   "metadata": {
    "collapsed": false,
    "ExecuteTime": {
     "end_time": "2024-01-30T15:02:22.366754874Z",
     "start_time": "2024-01-30T15:02:22.313778382Z"
    }
   },
   "execution_count": 163
  },
  {
   "cell_type": "code",
   "outputs": [],
   "source": [
    "seed = 2024\n",
    "np.random.seed(seed)"
   ],
   "metadata": {
    "collapsed": false,
    "ExecuteTime": {
     "end_time": "2024-01-30T15:02:22.367292133Z",
     "start_time": "2024-01-30T15:02:22.365101881Z"
    }
   },
   "execution_count": 164
  },
  {
   "cell_type": "code",
   "execution_count": 165,
   "metadata": {
    "ExecuteTime": {
     "end_time": "2024-01-30T15:02:22.395100021Z",
     "start_time": "2024-01-30T15:02:22.365188489Z"
    }
   },
   "outputs": [
    {
     "data": {
      "text/plain": "    Price_0  Bid_0_0  Bid_0_1  Bid_0_2  Bid_0_3  Bid_0_4  Bid_0_5  Bid_0_6  \\\n0  0.097675      1.0      0.0      1.0      1.0      1.0      0.0      0.0   \n1  0.117325      1.0      1.0      1.0      1.0      0.0      0.0      0.0   \n2  0.086037      0.0      1.0      0.0      1.0      0.0      0.0      0.0   \n3  0.100991      0.0      1.0      0.0      1.0      1.0      0.0      0.0   \n4  0.116555      0.0      0.0      1.0      1.0      1.0      1.0      0.0   \n\n   Bid_0_7  Bid_0_8  ...  Solution_4  Solution_5  Solution_6  Solution_7  \\\n0      0.0      0.0  ...         0.0         0.0         0.0         0.0   \n1      0.0      0.0  ...         0.0         0.0         0.0         0.0   \n2      0.0      0.0  ...         0.0         0.0         0.0         0.0   \n3      0.0      0.0  ...         0.0         0.0         0.0         0.0   \n4      0.0      0.0  ...         1.0         0.0         0.0         1.0   \n\n   Solution_8  Solution_9  Solution_10  Solution_11  Solution_12  Solution_13  \n0         0.0         0.0          0.0          0.0          0.0          0.0  \n1         0.0         0.0          0.0          0.0          0.0          0.0  \n2         0.0         0.0          0.0          0.0          0.0          0.0  \n3         0.0         0.0          0.0          0.0          0.0          0.0  \n4         0.0         1.0          0.0          0.0          0.0          0.0  \n\n[5 rows x 182 columns]",
      "text/html": "<div>\n<style scoped>\n    .dataframe tbody tr th:only-of-type {\n        vertical-align: middle;\n    }\n\n    .dataframe tbody tr th {\n        vertical-align: top;\n    }\n\n    .dataframe thead th {\n        text-align: right;\n    }\n</style>\n<table border=\"1\" class=\"dataframe\">\n  <thead>\n    <tr style=\"text-align: right;\">\n      <th></th>\n      <th>Price_0</th>\n      <th>Bid_0_0</th>\n      <th>Bid_0_1</th>\n      <th>Bid_0_2</th>\n      <th>Bid_0_3</th>\n      <th>Bid_0_4</th>\n      <th>Bid_0_5</th>\n      <th>Bid_0_6</th>\n      <th>Bid_0_7</th>\n      <th>Bid_0_8</th>\n      <th>...</th>\n      <th>Solution_4</th>\n      <th>Solution_5</th>\n      <th>Solution_6</th>\n      <th>Solution_7</th>\n      <th>Solution_8</th>\n      <th>Solution_9</th>\n      <th>Solution_10</th>\n      <th>Solution_11</th>\n      <th>Solution_12</th>\n      <th>Solution_13</th>\n    </tr>\n  </thead>\n  <tbody>\n    <tr>\n      <th>0</th>\n      <td>0.097675</td>\n      <td>1.0</td>\n      <td>0.0</td>\n      <td>1.0</td>\n      <td>1.0</td>\n      <td>1.0</td>\n      <td>0.0</td>\n      <td>0.0</td>\n      <td>0.0</td>\n      <td>0.0</td>\n      <td>...</td>\n      <td>0.0</td>\n      <td>0.0</td>\n      <td>0.0</td>\n      <td>0.0</td>\n      <td>0.0</td>\n      <td>0.0</td>\n      <td>0.0</td>\n      <td>0.0</td>\n      <td>0.0</td>\n      <td>0.0</td>\n    </tr>\n    <tr>\n      <th>1</th>\n      <td>0.117325</td>\n      <td>1.0</td>\n      <td>1.0</td>\n      <td>1.0</td>\n      <td>1.0</td>\n      <td>0.0</td>\n      <td>0.0</td>\n      <td>0.0</td>\n      <td>0.0</td>\n      <td>0.0</td>\n      <td>...</td>\n      <td>0.0</td>\n      <td>0.0</td>\n      <td>0.0</td>\n      <td>0.0</td>\n      <td>0.0</td>\n      <td>0.0</td>\n      <td>0.0</td>\n      <td>0.0</td>\n      <td>0.0</td>\n      <td>0.0</td>\n    </tr>\n    <tr>\n      <th>2</th>\n      <td>0.086037</td>\n      <td>0.0</td>\n      <td>1.0</td>\n      <td>0.0</td>\n      <td>1.0</td>\n      <td>0.0</td>\n      <td>0.0</td>\n      <td>0.0</td>\n      <td>0.0</td>\n      <td>0.0</td>\n      <td>...</td>\n      <td>0.0</td>\n      <td>0.0</td>\n      <td>0.0</td>\n      <td>0.0</td>\n      <td>0.0</td>\n      <td>0.0</td>\n      <td>0.0</td>\n      <td>0.0</td>\n      <td>0.0</td>\n      <td>0.0</td>\n    </tr>\n    <tr>\n      <th>3</th>\n      <td>0.100991</td>\n      <td>0.0</td>\n      <td>1.0</td>\n      <td>0.0</td>\n      <td>1.0</td>\n      <td>1.0</td>\n      <td>0.0</td>\n      <td>0.0</td>\n      <td>0.0</td>\n      <td>0.0</td>\n      <td>...</td>\n      <td>0.0</td>\n      <td>0.0</td>\n      <td>0.0</td>\n      <td>0.0</td>\n      <td>0.0</td>\n      <td>0.0</td>\n      <td>0.0</td>\n      <td>0.0</td>\n      <td>0.0</td>\n      <td>0.0</td>\n    </tr>\n    <tr>\n      <th>4</th>\n      <td>0.116555</td>\n      <td>0.0</td>\n      <td>0.0</td>\n      <td>1.0</td>\n      <td>1.0</td>\n      <td>1.0</td>\n      <td>1.0</td>\n      <td>0.0</td>\n      <td>0.0</td>\n      <td>0.0</td>\n      <td>...</td>\n      <td>1.0</td>\n      <td>0.0</td>\n      <td>0.0</td>\n      <td>1.0</td>\n      <td>0.0</td>\n      <td>1.0</td>\n      <td>0.0</td>\n      <td>0.0</td>\n      <td>0.0</td>\n      <td>0.0</td>\n    </tr>\n  </tbody>\n</table>\n<p>5 rows × 182 columns</p>\n</div>"
     },
     "execution_count": 165,
     "metadata": {},
     "output_type": "execute_result"
    }
   ],
   "source": [
    "df = pd.read_csv('data/computed_values.csv')\n",
    "solution_columns = [col for col in df.columns if col.startswith('Solution_')]\n",
    "num_bids = len(solution_columns)\n",
    "num_goods = (len(df.columns) - num_bids) // num_bids - 1\n",
    "df.head()"
   ]
  },
  {
   "cell_type": "code",
   "outputs": [
    {
     "data": {
      "text/plain": "1000"
     },
     "execution_count": 166,
     "metadata": {},
     "output_type": "execute_result"
    }
   ],
   "source": [
    "len(df)"
   ],
   "metadata": {
    "collapsed": false,
    "ExecuteTime": {
     "end_time": "2024-01-30T15:02:22.395599575Z",
     "start_time": "2024-01-30T15:02:22.372577336Z"
    }
   },
   "execution_count": 166
  },
  {
   "cell_type": "code",
   "outputs": [],
   "source": [
    "hparams = {\n",
    "    'batch_size': 1,\n",
    "    'learning_rate': 1e-3,\n",
    "    'epochs': 60,\n",
    "    'num_workers': 0,\n",
    "    'input_size': num_bids * (num_goods + 1),\n",
    "    'hidden_size': 256,\n",
    "    'output_size': num_bids\n",
    "}"
   ],
   "metadata": {
    "collapsed": false,
    "ExecuteTime": {
     "end_time": "2024-01-30T15:02:22.485111692Z",
     "start_time": "2024-01-30T15:02:22.386862278Z"
    }
   },
   "execution_count": 167
  },
  {
   "cell_type": "code",
   "outputs": [],
   "source": [
    "device = torch.device(\"cuda\" if torch.cuda.is_available() else \"cpu\")"
   ],
   "metadata": {
    "collapsed": false,
    "ExecuteTime": {
     "end_time": "2024-01-30T15:02:22.486007655Z",
     "start_time": "2024-01-30T15:02:22.428509555Z"
    }
   },
   "execution_count": 168
  },
  {
   "cell_type": "code",
   "outputs": [],
   "source": [
    "data = DataSet(df, num_bids)\n",
    "train_data = torch.utils.data.Subset(data, range(0, 800))\n",
    "val_data = torch.utils.data.Subset(data, range(800, 900))\n",
    "test_data = torch.utils.data.Subset(data, range(900, 1000))\n",
    "train_loader = DataLoader(train_data, batch_size=hparams['batch_size'], shuffle=True,\n",
    "                          num_workers=hparams['num_workers'])\n",
    "val_loader = DataLoader(val_data, batch_size=hparams['batch_size'], shuffle=True, num_workers=hparams['num_workers'])\n",
    "test_loader = DataLoader(test_data, batch_size=hparams['batch_size'], shuffle=True, num_workers=hparams['num_workers'])\n",
    "# train_data[0]"
   ],
   "metadata": {
    "collapsed": false,
    "ExecuteTime": {
     "end_time": "2024-01-30T15:02:22.486636787Z",
     "start_time": "2024-01-30T15:02:22.428623259Z"
    }
   },
   "execution_count": 169
  },
  {
   "cell_type": "code",
   "outputs": [
    {
     "name": "stdout",
     "output_type": "stream",
     "text": [
      "torch.Size([1, 168])\n",
      "torch.Size([1, 14])\n",
      "tensor([[0.1553, 1.0000, 1.0000, 1.0000, 1.0000, 0.0000, 0.0000, 0.0000, 0.0000,\n",
      "         0.0000, 0.0000, 0.0000, 0.1178, 0.0000, 1.0000, 0.0000, 0.0000, 1.0000,\n",
      "         1.0000, 0.0000, 0.0000, 0.0000, 0.0000, 0.0000, 0.0767, 1.0000, 1.0000,\n",
      "         0.0000, 0.0000, 0.0000, 1.0000, 0.0000, 0.0000, 0.0000, 0.0000, 0.0000,\n",
      "         0.2275, 1.0000, 1.0000, 1.0000, 1.0000, 1.0000, 0.0000, 0.0000, 0.0000,\n",
      "         0.0000, 0.0000, 0.0000, 0.0878, 0.0000, 0.0000, 1.0000, 1.0000, 1.0000,\n",
      "         0.0000, 1.0000, 0.0000, 0.0000, 0.0000, 0.0000, 0.1038, 0.0000, 1.0000,\n",
      "         1.0000, 0.0000, 1.0000, 0.0000, 1.0000, 0.0000, 0.0000, 0.0000, 0.0000,\n",
      "         0.0848, 1.0000, 0.0000, 1.0000, 1.0000, 0.0000, 0.0000, 1.0000, 0.0000,\n",
      "         0.0000, 0.0000, 0.0000, 0.0608, 1.0000, 0.0000, 0.0000, 1.0000, 1.0000,\n",
      "         0.0000, 1.0000, 0.0000, 0.0000, 0.0000, 0.0000, 0.0543, 0.0000, 0.0000,\n",
      "         0.0000, 0.0000, 1.0000, 0.0000, 0.0000, 0.0000, 0.0000, 0.0000, 0.0000,\n",
      "         0.0313, 0.0000, 0.0000, 0.0000, 1.0000, 0.0000, 0.0000, 0.0000, 0.0000,\n",
      "         0.0000, 0.0000, 0.0000, 0.0000, 0.0000, 0.0000, 0.0000, 0.0000, 0.0000,\n",
      "         0.0000, 0.0000, 0.0000, 0.0000, 0.0000, 0.0000, 0.0000, 0.0000, 0.0000,\n",
      "         0.0000, 0.0000, 0.0000, 0.0000, 0.0000, 0.0000, 0.0000, 0.0000, 0.0000,\n",
      "         0.0000, 0.0000, 0.0000, 0.0000, 0.0000, 0.0000, 0.0000, 0.0000, 0.0000,\n",
      "         0.0000, 0.0000, 0.0000, 0.0000, 0.0000, 0.0000, 0.0000, 0.0000, 0.0000,\n",
      "         0.0000, 0.0000, 0.0000, 0.0000, 0.0000, 0.0000]], dtype=torch.float64)\n",
      "tensor([[0., 0., 0., 1., 0., 0., 0., 0., 0., 0., 0., 0., 0., 0.]],\n",
      "       dtype=torch.float64)\n"
     ]
    },
    {
     "name": "stderr",
     "output_type": "stream",
     "text": [
      "/home/kassian/Alles/Uni/Master/Semester-2/IDP/machine-learning-for-auctions/DataSet.py:21: FutureWarning: Series.__getitem__ treating keys as positions is deprecated. In a future version, integer keys will always be treated as labels (consistent with DataFrame behavior). To access a value by position, use `ser.iloc[pos]`\n",
      "  self.data.iloc[idx].iloc[-self.num_bids:])\n"
     ]
    }
   ],
   "source": [
    "# Test data loader\n",
    "for i, (x, y) in enumerate(train_loader):\n",
    "    print(x.shape)\n",
    "    print(y.shape)\n",
    "    print(x)\n",
    "    print(y)\n",
    "    break"
   ],
   "metadata": {
    "collapsed": false,
    "ExecuteTime": {
     "end_time": "2024-01-30T15:02:22.519881556Z",
     "start_time": "2024-01-30T15:02:22.428681038Z"
    }
   },
   "execution_count": 170
  },
  {
   "cell_type": "code",
   "outputs": [
    {
     "name": "stdout",
     "output_type": "stream",
     "text": [
      "Parameter containing:\n",
      "tensor([[ 0.0339,  0.0206, -0.0123,  ...,  0.0239, -0.0520, -0.0239],\n",
      "        [-0.0115,  0.0737, -0.0464,  ...,  0.0536,  0.0048, -0.0394],\n",
      "        [-0.1049,  0.0931,  0.0092,  ...,  0.0311,  0.1348,  0.0484],\n",
      "        ...,\n",
      "        [ 0.1364,  0.0225,  0.0040,  ..., -0.0700, -0.0603, -0.1166],\n",
      "        [-0.0422, -0.0424,  0.1195,  ...,  0.0550,  0.0474,  0.0949],\n",
      "        [ 0.0249,  0.0455, -0.0782,  ..., -0.0962, -0.0199, -0.1476]],\n",
      "       requires_grad=True)\n"
     ]
    }
   ],
   "source": [
    "# Create model, loss function and optimizer\n",
    "writer = SummaryWriter('runs/FFNN' + str(datetime.now()))\n",
    "model = FFNN(hparams['input_size'], hparams['hidden_size'], hparams['output_size'])\n",
    "model.to(device)\n",
    "loss_fn = torch.nn.BCELoss()\n",
    "optimizer = torch.optim.Adam(model.parameters(), lr=hparams['learning_rate'])"
   ],
   "metadata": {
    "collapsed": false,
    "ExecuteTime": {
     "end_time": "2024-01-30T15:02:22.548034168Z",
     "start_time": "2024-01-30T15:02:22.441577290Z"
    }
   },
   "execution_count": 171
  },
  {
   "cell_type": "code",
   "outputs": [
    {
     "name": "stdout",
     "output_type": "stream",
     "text": [
      "Epoch: 0, Train Loss: 0.2826, Val Loss: 0.2516\n",
      "Epoch: 1, Train Loss: 0.2543, Val Loss: 0.2376\n",
      "Epoch: 2, Train Loss: 0.2404, Val Loss: 0.2367\n",
      "Epoch: 3, Train Loss: 0.2304, Val Loss: 0.2538\n",
      "Epoch: 4, Train Loss: 0.2211, Val Loss: 0.2345\n",
      "Epoch: 5, Train Loss: 0.2155, Val Loss: 0.2428\n",
      "Epoch: 6, Train Loss: 0.2111, Val Loss: 0.2371\n",
      "Epoch: 7, Train Loss: 0.2082, Val Loss: 0.2437\n",
      "Epoch: 8, Train Loss: 0.2046, Val Loss: 0.2431\n",
      "Epoch: 9, Train Loss: 0.2004, Val Loss: 0.2442\n",
      "Early stopping\n"
     ]
    }
   ],
   "source": [
    "def train_model(model, loss_fn, optimizer, train_loader, val_loader, patience=5, epochs=20):\n",
    "    best_loss = np.inf\n",
    "    patience_counter = 0\n",
    "\n",
    "    for epoch in range(epochs):\n",
    "        model.train()\n",
    "        train_loss = 0\n",
    "        # print(str(epoch) + \" \" + str(model.fc1.weight))\n",
    "        for i, (x, y) in enumerate(train_loader):\n",
    "            x = x.float().to(device)\n",
    "            y = y.float().to(device)\n",
    "            y_pred = model(x)\n",
    "            loss = loss_fn(y_pred, y)\n",
    "            optimizer.zero_grad()\n",
    "            loss.backward()\n",
    "            optimizer.step()\n",
    "            train_loss += loss.item()\n",
    "\n",
    "        train_loss /= len(train_loader)\n",
    "        writer.add_scalar('Loss/train', train_loss, epoch)\n",
    "\n",
    "        model.eval()\n",
    "        val_loss = 0\n",
    "        with torch.no_grad():\n",
    "            for i, (x, y) in enumerate(val_loader):\n",
    "                x = x.float().to(device)\n",
    "                y = y.float().to(device)\n",
    "                y_pred = model(x)\n",
    "                loss = loss_fn(y_pred, y)\n",
    "                val_loss += loss.item()\n",
    "\n",
    "        val_loss /= len(val_loader)\n",
    "        writer.add_scalar('Loss/val', val_loss, epoch)\n",
    "\n",
    "        print(f'Epoch: {epoch}, Train Loss: {train_loss:.4f}, Val Loss: {val_loss:.4f}')\n",
    "\n",
    "        if val_loss < best_loss:\n",
    "            best_loss = val_loss\n",
    "            torch.save(model.state_dict(), 'best_model.pth')\n",
    "            patience_counter = 0\n",
    "        else:\n",
    "            patience_counter += 1\n",
    "            if patience_counter >= patience:\n",
    "                print(\"Early stopping\")\n",
    "                break\n",
    "\n",
    "\n",
    "hparams = {\n",
    "    'batch_size': 8,\n",
    "    'learning_rate': 1e-3,\n",
    "    'epochs': 20,\n",
    "    'num_workers': 0,\n",
    "    'input_size': num_bids * (num_goods + 1),\n",
    "    'hidden_size': 256,\n",
    "    'output_size': num_bids,\n",
    "    'patience': 5\n",
    "}\n",
    "train_model(model, loss_fn, optimizer, train_loader, val_loader, epochs=hparams['epochs'], patience=hparams['patience'])"
   ],
   "metadata": {
    "collapsed": false,
    "ExecuteTime": {
     "end_time": "2024-01-30T15:02:45.114179516Z",
     "start_time": "2024-01-30T15:02:22.459358789Z"
    }
   },
   "execution_count": 172
  },
  {
   "cell_type": "code",
   "outputs": [],
   "source": [
    "def visualize(bits, prediction):\n",
    "    solution = bits[1]\n",
    "    bits = bits[0]\n",
    "    print(prediction)\n",
    "    print(solution)\n",
    "    for i in range(num_bids):\n",
    "        if bits[i * (num_goods + 1)] == 0:\n",
    "            break\n",
    "        print(f'Bid {i}: Price {bits[i * (num_goods + 1)]}')\n",
    "        good_list = []\n",
    "        for j in range(num_goods):\n",
    "            if bits[i * (num_goods + 1) + j + 1] == 1:\n",
    "                good_list.append(j)\n",
    "        print(f'       Goods {good_list}')\n",
    "        if solution[i] == 1:\n",
    "            if prediction[i] == 1:\n",
    "                print(f'       BOTH')\n",
    "            else:\n",
    "                print(f'       Only solution')\n",
    "        elif prediction[i] == 1:\n",
    "            print(f'       Only prediction')\n",
    "\n",
    "    print(\"Equal: \" + str(torch.all(torch.eq(prediction, solution))))"
   ],
   "metadata": {
    "collapsed": false,
    "ExecuteTime": {
     "end_time": "2024-01-30T15:02:45.138599612Z",
     "start_time": "2024-01-30T15:02:45.118369406Z"
    }
   },
   "execution_count": 173
  },
  {
   "cell_type": "code",
   "outputs": [
    {
     "name": "stdout",
     "output_type": "stream",
     "text": [
      "Parameter containing:\n",
      "tensor([[ 0.0188,  0.0394, -0.0788,  ..., -0.0186, -0.0517, -0.0897],\n",
      "        [ 0.0707, -0.0296, -0.0990,  ...,  0.0398, -0.0018, -0.0550],\n",
      "        [-0.0008, -0.1153, -0.0080,  ...,  0.0756, -0.1039, -0.0461],\n",
      "        ...,\n",
      "        [ 0.0663,  0.0073,  0.0143,  ...,  0.0235,  0.0247,  0.0516],\n",
      "        [-0.0871, -0.0754,  0.0274,  ..., -0.1761,  0.0131,  0.1092],\n",
      "        [ 0.0586,  0.0436,  0.0151,  ...,  0.0344, -0.0055,  0.0374]],\n",
      "       requires_grad=True)\n",
      "tensor([0., 0., 0., 0., 0., 0., 0., 0., 0., 0., 0., 0., 0., 0.],\n",
      "       grad_fn=<RoundBackward0>)\n",
      "tensor([0., 0., 0., 0., 0., 1., 0., 0., 0., 0., 0., 0., 0., 0.],\n",
      "       dtype=torch.float64)\n",
      "Bid 0: Price 0.0791307496363301\n",
      "       Goods [1, 3, 5]\n",
      "Bid 1: Price 0.073410781490287\n",
      "       Goods [0, 1, 5]\n",
      "Bid 2: Price 0.0784781939568724\n",
      "       Goods [1, 4, 6]\n",
      "Bid 3: Price 0.0862580436149736\n",
      "       Goods [3, 4, 6]\n",
      "Bid 4: Price 0.0717886320180775\n",
      "       Goods [0, 1, 6]\n",
      "Bid 5: Price 0.2195341676421315\n",
      "       Goods [0, 1, 2, 3, 4]\n",
      "       Only solution\n",
      "Bid 6: Price 0.1128286094269463\n",
      "       Goods [0, 1, 2, 3, 7]\n",
      "Bid 7: Price 0.121979403494811\n",
      "       Goods [0, 2, 3, 4, 7]\n",
      "Bid 8: Price 0.0883756734172492\n",
      "       Goods [0, 1, 2, 4, 7]\n",
      "Bid 9: Price 0.0682157453023209\n",
      "       Goods [1, 2]\n",
      "Equal: tensor(False)\n"
     ]
    }
   ],
   "source": [
    "# Test model\n",
    "test_object = test_data[3]\n",
    "\n",
    "model = FFNN(hparams['input_size'], hparams['hidden_size'], hparams['output_size'])\n",
    "model.load_state_dict(torch.load('best_model.pth'))\n",
    "model.eval()  # Set the model to evaluation mode\n",
    "\n",
    "visualize(test_object, model(test_object[0].float().to(device)).round())\n"
   ],
   "metadata": {
    "collapsed": false,
    "ExecuteTime": {
     "end_time": "2024-01-30T15:02:45.164765796Z",
     "start_time": "2024-01-30T15:02:45.136355005Z"
    }
   },
   "execution_count": 174
  },
  {
   "cell_type": "code",
   "outputs": [
    {
     "name": "stdout",
     "output_type": "stream",
     "text": [
      "Correct: 345\n",
      "Wrong: 455\n"
     ]
    }
   ],
   "source": [
    "model.eval()\n",
    "wrong = 0\n",
    "correct = 0\n",
    "for i, (x, y) in enumerate(train_loader):\n",
    "    x = x.float().to(device)\n",
    "    y = y.float().to(device)\n",
    "    y_pred = model(x)\n",
    "    if not torch.all(torch.eq(y_pred.round(), y)):\n",
    "        wrong += 1\n",
    "    else:\n",
    "        correct += 1\n",
    "\n",
    "print(\"Correct: \" + str(correct))\n",
    "print(\"Wrong: \" + str(wrong))"
   ],
   "metadata": {
    "collapsed": false,
    "ExecuteTime": {
     "end_time": "2024-01-30T15:02:47.031120750Z",
     "start_time": "2024-01-30T15:02:45.157415325Z"
    }
   },
   "execution_count": 175
  },
  {
   "cell_type": "code",
   "outputs": [],
   "source": [],
   "metadata": {
    "collapsed": false,
    "ExecuteTime": {
     "end_time": "2024-01-30T15:02:47.031965927Z",
     "start_time": "2024-01-30T15:02:47.025665069Z"
    }
   },
   "execution_count": 175
  }
 ],
 "metadata": {
  "kernelspec": {
   "display_name": "Python 3",
   "language": "python",
   "name": "python3"
  },
  "language_info": {
   "codemirror_mode": {
    "name": "ipython",
    "version": 3
   },
   "file_extension": ".py",
   "mimetype": "text/x-python",
   "name": "python",
   "nbconvert_exporter": "python",
   "pygments_lexer": "ipython3",
   "version": "3.10.11"
  },
  "orig_nbformat": 4
 },
 "nbformat": 4,
 "nbformat_minor": 2
}
